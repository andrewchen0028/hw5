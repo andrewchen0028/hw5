{
 "cells": [
  {
   "cell_type": "code",
   "execution_count": null,
   "metadata": {},
   "outputs": [],
   "source": [
    "!git clone --depth 1 https://github.com/andrewchen0028/hw5"
   ]
  },
  {
   "cell_type": "code",
   "execution_count": null,
   "metadata": {},
   "outputs": [],
   "source": [
    "!gdown \"https://drive.google.com/uc?id=11Pk4QvNX3fZkpa_ZvdjD_fQFjCBoa1M0\"\n",
    "!tar -xzf imagenet100_128x128.tar.gz"
   ]
  },
  {
   "cell_type": "code",
   "execution_count": null,
   "metadata": {},
   "outputs": [],
   "source": [
    "!pip install -r requirements.txt --quiet"
   ]
  },
  {
   "cell_type": "code",
   "execution_count": null,
   "metadata": {},
   "outputs": [],
   "source": [
    "# Download VAE checkpoint\n",
    "!gdown \"https://drive.google.com/uc?id=1ZIfi3Tqv_KQBBJruoQ_VA90mesWoZQrI\""
   ]
  },
  {
   "cell_type": "code",
   "execution_count": null,
   "metadata": {},
   "outputs": [],
   "source": [
    "!python train.py \\\n",
    "--config configs/ddpm.yaml \\\n",
    "--run_name ddpm-64p-128steps \\\n",
    "--batch_size 64 \\\n",
    "--image_size 64 \\\n",
    "--unet_in_size 64 \\\n",
    "--unet_ch 128 \\\n",
    "--num_workers 4 \\\n",
    "--num_epochs 16 \\\n",
    "--learning_rate 3e-4 \\\n",
    "--mixed_precision fp16 \\\n",
    "--data_dir data \\\n",
    "--output_dir experiments \\\n",
    "--num_train_timesteps 128 \\\n",
    "--num_inference_steps 128\n",
    "\n",
    "# andrew 2f24dc19a785916c49abbf30fa7049af535d58c2\n",
    "# sam 77fc876ab6ef08b2b2f76a6d00ec8c980647c41f"
   ]
  }
 ],
 "metadata": {
  "language_info": {
   "name": "python"
  }
 },
 "nbformat": 4,
 "nbformat_minor": 2
}
